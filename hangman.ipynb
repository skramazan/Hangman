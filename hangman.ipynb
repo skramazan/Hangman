{
 "cells": [
  {
   "cell_type": "code",
   "execution_count": null,
   "metadata": {},
   "outputs": [
    {
     "name": "stdout",
     "output_type": "stream",
     "text": [
      "\n",
      "Play Hangman with Car Brands\n",
      "\n",
      " _                                             \n",
      "| |                                            \n",
      "| |__   __ _ _ __   __ _ _ __ ___   __ _ _ __  \n",
      "| '_ \\ / _` | '_ \\ / _` | '_ ` _ \\ / _` | '_ \\ \n",
      "| | | | (_| | | | | (_| | | | | | | (_| | | | |\n",
      "|_| |_|\\__,_|_| |_|\\__, |_| |_| |_|\\__,_|_| |_|\n",
      "                    __/ |                      \n",
      "                   |___/                       \n",
      "\n",
      "\n",
      "['_', '_', '_', '_']\n"
     ]
    }
   ],
   "source": [
    "Continue = True\n",
    "while Continue:\n",
    "    from logo_ascii import hang_man\n",
    "    from hangman_ascii import stages\n",
    "    from IPython.display import clear_output\n",
    "    from brands_list import car_brands\n",
    "    from win_asc import you_win\n",
    "    import random\n",
    "    \n",
    "    print(hang_man[0])\n",
    "    chosen_word = random.choice(car_brands)\n",
    "    #print(chosen_word)\n",
    "    length_of_chosen_word = len(chosen_word)\n",
    "    display = []\n",
    "    life = 7\n",
    "    complete_word = \"\"\n",
    "\n",
    "    for word in range(length_of_chosen_word):\n",
    "        display += '_'\n",
    "    print(display)\n",
    "\n",
    "    end_game = False\n",
    "    while not end_game:\n",
    "\n",
    "        user_guess = input('Guess a letter: ')\n",
    "        if user_guess in display:\n",
    "            print(f'You have already guessed \"{user_guess}\"')\n",
    "\n",
    "        for num in range(length_of_chosen_word):\n",
    "            letter = chosen_word[num]\n",
    "            if letter == user_guess:\n",
    "                display[num] = letter\n",
    "        print(display)\n",
    "\n",
    "        if '_' not in display:\n",
    "            for letters in display:\n",
    "                complete_word+=letters\n",
    "            print(you_win[0])\n",
    "            print(f'\\nCongratss! the word was \"{complete_word}\".')\n",
    "            end_game = True\n",
    "\n",
    "        if user_guess not in chosen_word:\n",
    "            print(f'\"{user_guess}\" is not in the word. You lose a life!')\n",
    "            life -=1\n",
    "            print(stages[life])\n",
    "            \n",
    "        if life == 0:\n",
    "            print(f'\\nU run out of lives! the correct word was \"{chosen_word}\".')\n",
    "            end_game = True\n",
    "        clear_output(wait=True) \n",
    "    correct_confirmation = False\n",
    "    while not correct_confirmation:   \n",
    "        conf = input('Do you want to play again? (Y/N): ').upper()\n",
    "        if conf == 'N':\n",
    "            correct_confirmation = True\n",
    "            print('\\n     Thanks for playing ')\n",
    "            print(hang_man[0])\n",
    "            Continue = False\n",
    "\n",
    "        elif conf == 'Y':\n",
    "            correct_confirmation = True\n",
    "            Continue = True\n",
    "            "
   ]
  },
  {
   "cell_type": "code",
   "execution_count": null,
   "metadata": {},
   "outputs": [],
   "source": []
  },
  {
   "cell_type": "code",
   "execution_count": null,
   "metadata": {},
   "outputs": [],
   "source": []
  }
 ],
 "metadata": {
  "kernelspec": {
   "display_name": "Python 3",
   "language": "python",
   "name": "python3"
  },
  "language_info": {
   "codemirror_mode": {
    "name": "ipython",
    "version": 3
   },
   "file_extension": ".py",
   "mimetype": "text/x-python",
   "name": "python",
   "nbconvert_exporter": "python",
   "pygments_lexer": "ipython3",
   "version": "3.8.8"
  }
 },
 "nbformat": 4,
 "nbformat_minor": 4
}
